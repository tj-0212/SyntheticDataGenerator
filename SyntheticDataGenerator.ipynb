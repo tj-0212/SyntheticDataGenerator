{
  "nbformat": 4,
  "nbformat_minor": 0,
  "metadata": {
    "colab": {
      "provenance": []
    },
    "kernelspec": {
      "name": "python3",
      "display_name": "Python 3"
    },
    "language_info": {
      "name": "python"
    }
  },
  "cells": [
    {
      "cell_type": "code",
      "source": [
        "!pip install ctgan\n"
      ],
      "metadata": {
        "colab": {
          "base_uri": "https://localhost:8080/"
        },
        "id": "plK9NEIGVGTL",
        "outputId": "b0cec14a-9d4a-4013-d6cd-9fea07bb2d4e"
      },
      "execution_count": 48,
      "outputs": [
        {
          "output_type": "stream",
          "name": "stdout",
          "text": [
            "Collecting ctgan\n",
            "  Downloading ctgan-0.7.5-py2.py3-none-any.whl (27 kB)\n",
            "Requirement already satisfied: tqdm<5,>=4.15 in /usr/local/lib/python3.10/dist-packages (from ctgan) (4.66.1)\n",
            "Collecting rdt<2.0,>=1.6.1 (from ctgan)\n",
            "  Downloading rdt-1.7.0-py2.py3-none-any.whl (70 kB)\n",
            "\u001b[2K     \u001b[90m━━━━━━━━━━━━━━━━━━━━━━━━━━━━━━━━━━━━━━━━\u001b[0m \u001b[32m70.5/70.5 kB\u001b[0m \u001b[31m3.8 MB/s\u001b[0m eta \u001b[36m0:00:00\u001b[0m\n",
            "\u001b[?25hRequirement already satisfied: numpy<2,>=1.23.3 in /usr/local/lib/python3.10/dist-packages (from ctgan) (1.23.5)\n",
            "Requirement already satisfied: scikit-learn<2,>=1.1.3 in /usr/local/lib/python3.10/dist-packages (from ctgan) (1.2.2)\n",
            "Requirement already satisfied: pandas>=1.3.4 in /usr/local/lib/python3.10/dist-packages (from ctgan) (1.5.3)\n",
            "Requirement already satisfied: torch>=1.11.0 in /usr/local/lib/python3.10/dist-packages (from ctgan) (2.0.1+cu118)\n",
            "Requirement already satisfied: python-dateutil>=2.8.1 in /usr/local/lib/python3.10/dist-packages (from pandas>=1.3.4->ctgan) (2.8.2)\n",
            "Requirement already satisfied: pytz>=2020.1 in /usr/local/lib/python3.10/dist-packages (from pandas>=1.3.4->ctgan) (2023.3.post1)\n",
            "Requirement already satisfied: psutil<6,>=5.7 in /usr/local/lib/python3.10/dist-packages (from rdt<2.0,>=1.6.1->ctgan) (5.9.5)\n",
            "Collecting Faker>=10 (from rdt<2.0,>=1.6.1->ctgan)\n",
            "  Downloading Faker-19.10.0-py3-none-any.whl (1.7 MB)\n",
            "\u001b[2K     \u001b[90m━━━━━━━━━━━━━━━━━━━━━━━━━━━━━━━━━━━━━━━━\u001b[0m \u001b[32m1.7/1.7 MB\u001b[0m \u001b[31m13.6 MB/s\u001b[0m eta \u001b[36m0:00:00\u001b[0m\n",
            "\u001b[?25hRequirement already satisfied: scipy<2,>=1.9.2 in /usr/local/lib/python3.10/dist-packages (from rdt<2.0,>=1.6.1->ctgan) (1.11.3)\n",
            "Requirement already satisfied: joblib>=1.1.1 in /usr/local/lib/python3.10/dist-packages (from scikit-learn<2,>=1.1.3->ctgan) (1.3.2)\n",
            "Requirement already satisfied: threadpoolctl>=2.0.0 in /usr/local/lib/python3.10/dist-packages (from scikit-learn<2,>=1.1.3->ctgan) (3.2.0)\n",
            "Requirement already satisfied: filelock in /usr/local/lib/python3.10/dist-packages (from torch>=1.11.0->ctgan) (3.12.4)\n",
            "Requirement already satisfied: typing-extensions in /usr/local/lib/python3.10/dist-packages (from torch>=1.11.0->ctgan) (4.5.0)\n",
            "Requirement already satisfied: sympy in /usr/local/lib/python3.10/dist-packages (from torch>=1.11.0->ctgan) (1.12)\n",
            "Requirement already satisfied: networkx in /usr/local/lib/python3.10/dist-packages (from torch>=1.11.0->ctgan) (3.1)\n",
            "Requirement already satisfied: jinja2 in /usr/local/lib/python3.10/dist-packages (from torch>=1.11.0->ctgan) (3.1.2)\n",
            "Requirement already satisfied: triton==2.0.0 in /usr/local/lib/python3.10/dist-packages (from torch>=1.11.0->ctgan) (2.0.0)\n",
            "Requirement already satisfied: cmake in /usr/local/lib/python3.10/dist-packages (from triton==2.0.0->torch>=1.11.0->ctgan) (3.27.6)\n",
            "Requirement already satisfied: lit in /usr/local/lib/python3.10/dist-packages (from triton==2.0.0->torch>=1.11.0->ctgan) (17.0.2)\n",
            "Requirement already satisfied: six>=1.5 in /usr/local/lib/python3.10/dist-packages (from python-dateutil>=2.8.1->pandas>=1.3.4->ctgan) (1.16.0)\n",
            "Requirement already satisfied: MarkupSafe>=2.0 in /usr/local/lib/python3.10/dist-packages (from jinja2->torch>=1.11.0->ctgan) (2.1.3)\n",
            "Requirement already satisfied: mpmath>=0.19 in /usr/local/lib/python3.10/dist-packages (from sympy->torch>=1.11.0->ctgan) (1.3.0)\n",
            "Installing collected packages: Faker, rdt, ctgan\n",
            "Successfully installed Faker-19.10.0 ctgan-0.7.5 rdt-1.7.0\n"
          ]
        }
      ]
    },
    {
      "cell_type": "code",
      "source": [
        "!pip install table_evaluator"
      ],
      "metadata": {
        "colab": {
          "base_uri": "https://localhost:8080/",
          "height": 790
        },
        "id": "UNPZHZnbVKTK",
        "outputId": "982e67ba-ef47-4696-b32f-ea4400241c7d"
      },
      "execution_count": 51,
      "outputs": [
        {
          "output_type": "stream",
          "name": "stdout",
          "text": [
            "Collecting table_evaluator\n",
            "  Downloading table_evaluator-1.6.1-py3-none-any.whl (22 kB)\n",
            "Collecting pandas==2.0.* (from table_evaluator)\n",
            "  Downloading pandas-2.0.3-cp310-cp310-manylinux_2_17_x86_64.manylinux2014_x86_64.whl (12.3 MB)\n",
            "\u001b[2K     \u001b[90m━━━━━━━━━━━━━━━━━━━━━━━━━━━━━━━━━━━━━━━━\u001b[0m \u001b[32m12.3/12.3 MB\u001b[0m \u001b[31m15.7 MB/s\u001b[0m eta \u001b[36m0:00:00\u001b[0m\n",
            "\u001b[?25hRequirement already satisfied: numpy in /usr/local/lib/python3.10/dist-packages (from table_evaluator) (1.23.5)\n",
            "Requirement already satisfied: tqdm in /usr/local/lib/python3.10/dist-packages (from table_evaluator) (4.66.1)\n",
            "Requirement already satisfied: psutil in /usr/local/lib/python3.10/dist-packages (from table_evaluator) (5.9.5)\n",
            "Collecting dython==0.7.3 (from table_evaluator)\n",
            "  Downloading dython-0.7.3-py3-none-any.whl (23 kB)\n",
            "Requirement already satisfied: seaborn in /usr/local/lib/python3.10/dist-packages (from table_evaluator) (0.12.2)\n",
            "Requirement already satisfied: matplotlib in /usr/local/lib/python3.10/dist-packages (from table_evaluator) (3.7.1)\n",
            "Requirement already satisfied: scikit-learn in /usr/local/lib/python3.10/dist-packages (from table_evaluator) (1.2.2)\n",
            "Requirement already satisfied: scipy in /usr/local/lib/python3.10/dist-packages (from table_evaluator) (1.11.3)\n",
            "Collecting scikit-plot>=0.3.7 (from dython==0.7.3->table_evaluator)\n",
            "  Downloading scikit_plot-0.3.7-py3-none-any.whl (33 kB)\n",
            "Requirement already satisfied: python-dateutil>=2.8.2 in /usr/local/lib/python3.10/dist-packages (from pandas==2.0.*->table_evaluator) (2.8.2)\n",
            "Requirement already satisfied: pytz>=2020.1 in /usr/local/lib/python3.10/dist-packages (from pandas==2.0.*->table_evaluator) (2023.3.post1)\n",
            "Collecting tzdata>=2022.1 (from pandas==2.0.*->table_evaluator)\n",
            "  Downloading tzdata-2023.3-py2.py3-none-any.whl (341 kB)\n",
            "\u001b[2K     \u001b[90m━━━━━━━━━━━━━━━━━━━━━━━━━━━━━━━━━━━━━━\u001b[0m \u001b[32m341.8/341.8 kB\u001b[0m \u001b[31m27.9 MB/s\u001b[0m eta \u001b[36m0:00:00\u001b[0m\n",
            "\u001b[?25hRequirement already satisfied: contourpy>=1.0.1 in /usr/local/lib/python3.10/dist-packages (from matplotlib->table_evaluator) (1.1.1)\n",
            "Requirement already satisfied: cycler>=0.10 in /usr/local/lib/python3.10/dist-packages (from matplotlib->table_evaluator) (0.12.0)\n",
            "Requirement already satisfied: fonttools>=4.22.0 in /usr/local/lib/python3.10/dist-packages (from matplotlib->table_evaluator) (4.43.1)\n",
            "Requirement already satisfied: kiwisolver>=1.0.1 in /usr/local/lib/python3.10/dist-packages (from matplotlib->table_evaluator) (1.4.5)\n",
            "Requirement already satisfied: packaging>=20.0 in /usr/local/lib/python3.10/dist-packages (from matplotlib->table_evaluator) (23.2)\n",
            "Requirement already satisfied: pillow>=6.2.0 in /usr/local/lib/python3.10/dist-packages (from matplotlib->table_evaluator) (9.4.0)\n",
            "Requirement already satisfied: pyparsing>=2.3.1 in /usr/local/lib/python3.10/dist-packages (from matplotlib->table_evaluator) (3.1.1)\n",
            "Requirement already satisfied: joblib>=1.1.1 in /usr/local/lib/python3.10/dist-packages (from scikit-learn->table_evaluator) (1.3.2)\n",
            "Requirement already satisfied: threadpoolctl>=2.0.0 in /usr/local/lib/python3.10/dist-packages (from scikit-learn->table_evaluator) (3.2.0)\n",
            "Requirement already satisfied: six>=1.5 in /usr/local/lib/python3.10/dist-packages (from python-dateutil>=2.8.2->pandas==2.0.*->table_evaluator) (1.16.0)\n",
            "Installing collected packages: tzdata, pandas, scikit-plot, dython, table_evaluator\n",
            "  Attempting uninstall: pandas\n",
            "    Found existing installation: pandas 1.5.3\n",
            "    Uninstalling pandas-1.5.3:\n",
            "      Successfully uninstalled pandas-1.5.3\n",
            "\u001b[31mERROR: pip's dependency resolver does not currently take into account all the packages that are installed. This behaviour is the source of the following dependency conflicts.\n",
            "google-colab 1.0.0 requires pandas==1.5.3, but you have pandas 2.0.3 which is incompatible.\u001b[0m\u001b[31m\n",
            "\u001b[0mSuccessfully installed dython-0.7.3 pandas-2.0.3 scikit-plot-0.3.7 table_evaluator-1.6.1 tzdata-2023.3\n"
          ]
        },
        {
          "output_type": "display_data",
          "data": {
            "application/vnd.colab-display-data+json": {
              "pip_warning": {
                "packages": [
                  "pandas"
                ]
              }
            }
          },
          "metadata": {}
        }
      ]
    },
    {
      "cell_type": "code",
      "execution_count": 34,
      "metadata": {
        "id": "Y0qiSp2mOAPN"
      },
      "outputs": [],
      "source": [
        "import pandas as pd\n",
        "import numpy as np\n",
        "import seaborn as sns\n"
      ]
    },
    {
      "cell_type": "code",
      "source": [
        "\n",
        "def generate_synthetic_data(num_rows, num_columns, value_range):\n",
        "    # Generate random numeric data within the specified range\n",
        "    synthetic_data = np.random.uniform(value_range[0], value_range[1], size=(num_rows, num_columns))\n",
        "    return synthetic_data\n",
        "\n",
        "def save_to_csv(data, file_name):\n",
        "    df = pd.DataFrame(data)\n",
        "    df.to_csv(file_name, index=False)\n",
        "\n"
      ],
      "metadata": {
        "id": "NpLKVL0uOOOb"
      },
      "execution_count": 35,
      "outputs": []
    },
    {
      "cell_type": "code",
      "source": [
        "# Parameters\n",
        "num_rows = 100  # Number of rows\n",
        "num_columns = 5  # Number of columns\n",
        "value_range = (10, 100)  # Range for random values\n",
        "\n",
        "# Generate synthetic data\n",
        "synthetic_data = generate_synthetic_data(num_rows, num_columns, value_range)\n",
        "\n",
        "# Save data to CSV file\n",
        "file_name = 'synthetic_data.csv'\n",
        "save_to_csv(synthetic_data, file_name)\n",
        "\n",
        "print(f'Synthetic data with {num_rows} rows and {num_columns} columns generated and saved to {file_name}.')"
      ],
      "metadata": {
        "colab": {
          "base_uri": "https://localhost:8080/"
        },
        "id": "1j3DvkdQORQL",
        "outputId": "7b3369c0-5095-4dc1-dae5-5f21dad4da74"
      },
      "execution_count": 36,
      "outputs": [
        {
          "output_type": "stream",
          "name": "stdout",
          "text": [
            "Synthetic data with 100 rows and 5 columns generated and saved to synthetic_data.csv.\n"
          ]
        }
      ]
    },
    {
      "cell_type": "code",
      "source": [
        "synthetic_data=pd.read_csv(\"/content/synthetic_data.csv\")\n",
        "synthetic_data"
      ],
      "metadata": {
        "colab": {
          "base_uri": "https://localhost:8080/",
          "height": 424
        },
        "id": "o9GMarucOVEL",
        "outputId": "d4a7224e-0dc8-4e0d-837f-9b585a38d682"
      },
      "execution_count": 37,
      "outputs": [
        {
          "output_type": "execute_result",
          "data": {
            "text/plain": [
              "            0          1          2          3          4\n",
              "0   55.384514  26.778289  46.540224  40.492013  43.260887\n",
              "1   63.543103  54.547361  99.401571  54.409273  44.484362\n",
              "2   38.173030  89.923300  70.854740  92.113861  96.475797\n",
              "3   81.642031  62.869876  87.646700  25.467848  62.833368\n",
              "4   30.999931  99.621545  75.744536  38.957117  47.136525\n",
              "..        ...        ...        ...        ...        ...\n",
              "95  57.853115  16.936990  91.725007  31.516713  68.547867\n",
              "96  45.380710  24.576697  14.953888  16.738073  95.601431\n",
              "97  65.871613  48.823566  42.786880  78.682550  47.480974\n",
              "98  23.665675  48.115432  17.515668  72.919504  24.634935\n",
              "99  93.054503  81.793109  62.848131  64.061465  11.333821\n",
              "\n",
              "[100 rows x 5 columns]"
            ],
            "text/html": [
              "\n",
              "  <div id=\"df-02220988-5714-400c-b3ec-215d4b2130df\" class=\"colab-df-container\">\n",
              "    <div>\n",
              "<style scoped>\n",
              "    .dataframe tbody tr th:only-of-type {\n",
              "        vertical-align: middle;\n",
              "    }\n",
              "\n",
              "    .dataframe tbody tr th {\n",
              "        vertical-align: top;\n",
              "    }\n",
              "\n",
              "    .dataframe thead th {\n",
              "        text-align: right;\n",
              "    }\n",
              "</style>\n",
              "<table border=\"1\" class=\"dataframe\">\n",
              "  <thead>\n",
              "    <tr style=\"text-align: right;\">\n",
              "      <th></th>\n",
              "      <th>0</th>\n",
              "      <th>1</th>\n",
              "      <th>2</th>\n",
              "      <th>3</th>\n",
              "      <th>4</th>\n",
              "    </tr>\n",
              "  </thead>\n",
              "  <tbody>\n",
              "    <tr>\n",
              "      <th>0</th>\n",
              "      <td>55.384514</td>\n",
              "      <td>26.778289</td>\n",
              "      <td>46.540224</td>\n",
              "      <td>40.492013</td>\n",
              "      <td>43.260887</td>\n",
              "    </tr>\n",
              "    <tr>\n",
              "      <th>1</th>\n",
              "      <td>63.543103</td>\n",
              "      <td>54.547361</td>\n",
              "      <td>99.401571</td>\n",
              "      <td>54.409273</td>\n",
              "      <td>44.484362</td>\n",
              "    </tr>\n",
              "    <tr>\n",
              "      <th>2</th>\n",
              "      <td>38.173030</td>\n",
              "      <td>89.923300</td>\n",
              "      <td>70.854740</td>\n",
              "      <td>92.113861</td>\n",
              "      <td>96.475797</td>\n",
              "    </tr>\n",
              "    <tr>\n",
              "      <th>3</th>\n",
              "      <td>81.642031</td>\n",
              "      <td>62.869876</td>\n",
              "      <td>87.646700</td>\n",
              "      <td>25.467848</td>\n",
              "      <td>62.833368</td>\n",
              "    </tr>\n",
              "    <tr>\n",
              "      <th>4</th>\n",
              "      <td>30.999931</td>\n",
              "      <td>99.621545</td>\n",
              "      <td>75.744536</td>\n",
              "      <td>38.957117</td>\n",
              "      <td>47.136525</td>\n",
              "    </tr>\n",
              "    <tr>\n",
              "      <th>...</th>\n",
              "      <td>...</td>\n",
              "      <td>...</td>\n",
              "      <td>...</td>\n",
              "      <td>...</td>\n",
              "      <td>...</td>\n",
              "    </tr>\n",
              "    <tr>\n",
              "      <th>95</th>\n",
              "      <td>57.853115</td>\n",
              "      <td>16.936990</td>\n",
              "      <td>91.725007</td>\n",
              "      <td>31.516713</td>\n",
              "      <td>68.547867</td>\n",
              "    </tr>\n",
              "    <tr>\n",
              "      <th>96</th>\n",
              "      <td>45.380710</td>\n",
              "      <td>24.576697</td>\n",
              "      <td>14.953888</td>\n",
              "      <td>16.738073</td>\n",
              "      <td>95.601431</td>\n",
              "    </tr>\n",
              "    <tr>\n",
              "      <th>97</th>\n",
              "      <td>65.871613</td>\n",
              "      <td>48.823566</td>\n",
              "      <td>42.786880</td>\n",
              "      <td>78.682550</td>\n",
              "      <td>47.480974</td>\n",
              "    </tr>\n",
              "    <tr>\n",
              "      <th>98</th>\n",
              "      <td>23.665675</td>\n",
              "      <td>48.115432</td>\n",
              "      <td>17.515668</td>\n",
              "      <td>72.919504</td>\n",
              "      <td>24.634935</td>\n",
              "    </tr>\n",
              "    <tr>\n",
              "      <th>99</th>\n",
              "      <td>93.054503</td>\n",
              "      <td>81.793109</td>\n",
              "      <td>62.848131</td>\n",
              "      <td>64.061465</td>\n",
              "      <td>11.333821</td>\n",
              "    </tr>\n",
              "  </tbody>\n",
              "</table>\n",
              "<p>100 rows × 5 columns</p>\n",
              "</div>\n",
              "    <div class=\"colab-df-buttons\">\n",
              "\n",
              "  <div class=\"colab-df-container\">\n",
              "    <button class=\"colab-df-convert\" onclick=\"convertToInteractive('df-02220988-5714-400c-b3ec-215d4b2130df')\"\n",
              "            title=\"Convert this dataframe to an interactive table.\"\n",
              "            style=\"display:none;\">\n",
              "\n",
              "  <svg xmlns=\"http://www.w3.org/2000/svg\" height=\"24px\" viewBox=\"0 -960 960 960\">\n",
              "    <path d=\"M120-120v-720h720v720H120Zm60-500h600v-160H180v160Zm220 220h160v-160H400v160Zm0 220h160v-160H400v160ZM180-400h160v-160H180v160Zm440 0h160v-160H620v160ZM180-180h160v-160H180v160Zm440 0h160v-160H620v160Z\"/>\n",
              "  </svg>\n",
              "    </button>\n",
              "\n",
              "  <style>\n",
              "    .colab-df-container {\n",
              "      display:flex;\n",
              "      gap: 12px;\n",
              "    }\n",
              "\n",
              "    .colab-df-convert {\n",
              "      background-color: #E8F0FE;\n",
              "      border: none;\n",
              "      border-radius: 50%;\n",
              "      cursor: pointer;\n",
              "      display: none;\n",
              "      fill: #1967D2;\n",
              "      height: 32px;\n",
              "      padding: 0 0 0 0;\n",
              "      width: 32px;\n",
              "    }\n",
              "\n",
              "    .colab-df-convert:hover {\n",
              "      background-color: #E2EBFA;\n",
              "      box-shadow: 0px 1px 2px rgba(60, 64, 67, 0.3), 0px 1px 3px 1px rgba(60, 64, 67, 0.15);\n",
              "      fill: #174EA6;\n",
              "    }\n",
              "\n",
              "    .colab-df-buttons div {\n",
              "      margin-bottom: 4px;\n",
              "    }\n",
              "\n",
              "    [theme=dark] .colab-df-convert {\n",
              "      background-color: #3B4455;\n",
              "      fill: #D2E3FC;\n",
              "    }\n",
              "\n",
              "    [theme=dark] .colab-df-convert:hover {\n",
              "      background-color: #434B5C;\n",
              "      box-shadow: 0px 1px 3px 1px rgba(0, 0, 0, 0.15);\n",
              "      filter: drop-shadow(0px 1px 2px rgba(0, 0, 0, 0.3));\n",
              "      fill: #FFFFFF;\n",
              "    }\n",
              "  </style>\n",
              "\n",
              "    <script>\n",
              "      const buttonEl =\n",
              "        document.querySelector('#df-02220988-5714-400c-b3ec-215d4b2130df button.colab-df-convert');\n",
              "      buttonEl.style.display =\n",
              "        google.colab.kernel.accessAllowed ? 'block' : 'none';\n",
              "\n",
              "      async function convertToInteractive(key) {\n",
              "        const element = document.querySelector('#df-02220988-5714-400c-b3ec-215d4b2130df');\n",
              "        const dataTable =\n",
              "          await google.colab.kernel.invokeFunction('convertToInteractive',\n",
              "                                                    [key], {});\n",
              "        if (!dataTable) return;\n",
              "\n",
              "        const docLinkHtml = 'Like what you see? Visit the ' +\n",
              "          '<a target=\"_blank\" href=https://colab.research.google.com/notebooks/data_table.ipynb>data table notebook</a>'\n",
              "          + ' to learn more about interactive tables.';\n",
              "        element.innerHTML = '';\n",
              "        dataTable['output_type'] = 'display_data';\n",
              "        await google.colab.output.renderOutput(dataTable, element);\n",
              "        const docLink = document.createElement('div');\n",
              "        docLink.innerHTML = docLinkHtml;\n",
              "        element.appendChild(docLink);\n",
              "      }\n",
              "    </script>\n",
              "  </div>\n",
              "\n",
              "\n",
              "<div id=\"df-a2471240-f542-4461-a211-235773d52dc3\">\n",
              "  <button class=\"colab-df-quickchart\" onclick=\"quickchart('df-a2471240-f542-4461-a211-235773d52dc3')\"\n",
              "            title=\"Suggest charts.\"\n",
              "            style=\"display:none;\">\n",
              "\n",
              "<svg xmlns=\"http://www.w3.org/2000/svg\" height=\"24px\"viewBox=\"0 0 24 24\"\n",
              "     width=\"24px\">\n",
              "    <g>\n",
              "        <path d=\"M19 3H5c-1.1 0-2 .9-2 2v14c0 1.1.9 2 2 2h14c1.1 0 2-.9 2-2V5c0-1.1-.9-2-2-2zM9 17H7v-7h2v7zm4 0h-2V7h2v10zm4 0h-2v-4h2v4z\"/>\n",
              "    </g>\n",
              "</svg>\n",
              "  </button>\n",
              "\n",
              "<style>\n",
              "  .colab-df-quickchart {\n",
              "      --bg-color: #E8F0FE;\n",
              "      --fill-color: #1967D2;\n",
              "      --hover-bg-color: #E2EBFA;\n",
              "      --hover-fill-color: #174EA6;\n",
              "      --disabled-fill-color: #AAA;\n",
              "      --disabled-bg-color: #DDD;\n",
              "  }\n",
              "\n",
              "  [theme=dark] .colab-df-quickchart {\n",
              "      --bg-color: #3B4455;\n",
              "      --fill-color: #D2E3FC;\n",
              "      --hover-bg-color: #434B5C;\n",
              "      --hover-fill-color: #FFFFFF;\n",
              "      --disabled-bg-color: #3B4455;\n",
              "      --disabled-fill-color: #666;\n",
              "  }\n",
              "\n",
              "  .colab-df-quickchart {\n",
              "    background-color: var(--bg-color);\n",
              "    border: none;\n",
              "    border-radius: 50%;\n",
              "    cursor: pointer;\n",
              "    display: none;\n",
              "    fill: var(--fill-color);\n",
              "    height: 32px;\n",
              "    padding: 0;\n",
              "    width: 32px;\n",
              "  }\n",
              "\n",
              "  .colab-df-quickchart:hover {\n",
              "    background-color: var(--hover-bg-color);\n",
              "    box-shadow: 0 1px 2px rgba(60, 64, 67, 0.3), 0 1px 3px 1px rgba(60, 64, 67, 0.15);\n",
              "    fill: var(--button-hover-fill-color);\n",
              "  }\n",
              "\n",
              "  .colab-df-quickchart-complete:disabled,\n",
              "  .colab-df-quickchart-complete:disabled:hover {\n",
              "    background-color: var(--disabled-bg-color);\n",
              "    fill: var(--disabled-fill-color);\n",
              "    box-shadow: none;\n",
              "  }\n",
              "\n",
              "  .colab-df-spinner {\n",
              "    border: 2px solid var(--fill-color);\n",
              "    border-color: transparent;\n",
              "    border-bottom-color: var(--fill-color);\n",
              "    animation:\n",
              "      spin 1s steps(1) infinite;\n",
              "  }\n",
              "\n",
              "  @keyframes spin {\n",
              "    0% {\n",
              "      border-color: transparent;\n",
              "      border-bottom-color: var(--fill-color);\n",
              "      border-left-color: var(--fill-color);\n",
              "    }\n",
              "    20% {\n",
              "      border-color: transparent;\n",
              "      border-left-color: var(--fill-color);\n",
              "      border-top-color: var(--fill-color);\n",
              "    }\n",
              "    30% {\n",
              "      border-color: transparent;\n",
              "      border-left-color: var(--fill-color);\n",
              "      border-top-color: var(--fill-color);\n",
              "      border-right-color: var(--fill-color);\n",
              "    }\n",
              "    40% {\n",
              "      border-color: transparent;\n",
              "      border-right-color: var(--fill-color);\n",
              "      border-top-color: var(--fill-color);\n",
              "    }\n",
              "    60% {\n",
              "      border-color: transparent;\n",
              "      border-right-color: var(--fill-color);\n",
              "    }\n",
              "    80% {\n",
              "      border-color: transparent;\n",
              "      border-right-color: var(--fill-color);\n",
              "      border-bottom-color: var(--fill-color);\n",
              "    }\n",
              "    90% {\n",
              "      border-color: transparent;\n",
              "      border-bottom-color: var(--fill-color);\n",
              "    }\n",
              "  }\n",
              "</style>\n",
              "\n",
              "  <script>\n",
              "    async function quickchart(key) {\n",
              "      const quickchartButtonEl =\n",
              "        document.querySelector('#' + key + ' button');\n",
              "      quickchartButtonEl.disabled = true;  // To prevent multiple clicks.\n",
              "      quickchartButtonEl.classList.add('colab-df-spinner');\n",
              "      try {\n",
              "        const charts = await google.colab.kernel.invokeFunction(\n",
              "            'suggestCharts', [key], {});\n",
              "      } catch (error) {\n",
              "        console.error('Error during call to suggestCharts:', error);\n",
              "      }\n",
              "      quickchartButtonEl.classList.remove('colab-df-spinner');\n",
              "      quickchartButtonEl.classList.add('colab-df-quickchart-complete');\n",
              "    }\n",
              "    (() => {\n",
              "      let quickchartButtonEl =\n",
              "        document.querySelector('#df-a2471240-f542-4461-a211-235773d52dc3 button');\n",
              "      quickchartButtonEl.style.display =\n",
              "        google.colab.kernel.accessAllowed ? 'block' : 'none';\n",
              "    })();\n",
              "  </script>\n",
              "</div>\n",
              "    </div>\n",
              "  </div>\n"
            ]
          },
          "metadata": {},
          "execution_count": 37
        }
      ]
    },
    {
      "cell_type": "code",
      "source": [
        "sns.histplot(synthetic_data)"
      ],
      "metadata": {
        "colab": {
          "base_uri": "https://localhost:8080/",
          "height": 447
        },
        "id": "g6uROhlYRDQs",
        "outputId": "978e81eb-efbc-48a1-f40b-1005989906ed"
      },
      "execution_count": 38,
      "outputs": [
        {
          "output_type": "execute_result",
          "data": {
            "text/plain": [
              "<Axes: ylabel='Count'>"
            ]
          },
          "metadata": {},
          "execution_count": 38
        },
        {
          "output_type": "display_data",
          "data": {
            "text/plain": [
              "<Figure size 640x480 with 1 Axes>"
            ],
            "image/png": "[encoded data removed]"
          },
          "metadata": {}
        }
      ]
    },
    {
      "cell_type": "code",
      "source": [
        "from scipy.stats import zscore\n",
        "\n",
        "z_scores = zscore(synthetic_data)\n",
        "outliers = (z_scores > 3) | (z_scores < -3)\n",
        "synthetic_data_no_outliers = synthetic_data[~outliers.any(axis=1)]\n",
        "# print(outliers)\n",
        "# print(synthetic_data_no_outliers)\n",
        "if synthetic_data_no_outliers.shape==synthetic_data.shape:\n",
        "  print(\"NO outliers\")"
      ],
      "metadata": {
        "id": "BlDyvedoOabI",
        "colab": {
          "base_uri": "https://localhost:8080/"
        },
        "outputId": "85c34e05-d7be-4414-dce5-7bca05e5ac37"
      },
      "execution_count": 39,
      "outputs": [
        {
          "output_type": "stream",
          "name": "stdout",
          "text": [
            "NO outliers\n"
          ]
        }
      ]
    },
    {
      "cell_type": "code",
      "source": [
        "sns.histplot(synthetic_data_no_outliers)"
      ],
      "metadata": {
        "colab": {
          "base_uri": "https://localhost:8080/",
          "height": 447
        },
        "id": "7xmTR2NNQ4pz",
        "outputId": "38d478c4-04ee-4085-d630-3d9112637975"
      },
      "execution_count": 40,
      "outputs": [
        {
          "output_type": "execute_result",
          "data": {
            "text/plain": [
              "<Axes: ylabel='Count'>"
            ]
          },
          "metadata": {},
          "execution_count": 40
        },
        {
          "output_type": "display_data",
          "data": {
            "text/plain": [
              "<Figure size 640x480 with 1 Axes>"
            ],
            "image/png": "[encoded data removed]"
          },
          "metadata": {}
        }
      ]
    },
    {
      "cell_type": "code",
      "source": [
        "import matplotlib.pyplot as plt\n",
        "\n",
        "# Scatter plot for two columns (you can adjust column numbers as needed)\n",
        "plt.figure(figsize=(10, 5))\n",
        "plt.subplot(1, 2, 1)\n",
        "plt.scatter(synthetic_data.iloc[:, 0], synthetic_data.iloc[:, 1], c='blue', alpha=0.5)\n",
        "plt.title('Synthetic Data (with Outliers)')\n",
        "plt.xlabel('Column 1')\n",
        "plt.ylabel('Column 2')\n",
        "\n",
        "plt.subplot(1, 2, 2)\n",
        "plt.scatter(synthetic_data_no_outliers.iloc[:, 0], synthetic_data_no_outliers.iloc[:, 1], c='red', alpha=0.5)\n",
        "plt.title('Synthetic Data (No Outliers)')\n",
        "plt.xlabel('Column 1')\n",
        "plt.ylabel('Column 2')\n",
        "\n",
        "plt.tight_layout()\n",
        "plt.show()\n"
      ],
      "metadata": {
        "colab": {
          "base_uri": "https://localhost:8080/",
          "height": 507
        },
        "id": "KdDvDZ9HSXzj",
        "outputId": "e145d214-0458-4d05-bb23-fc4811dfffd3"
      },
      "execution_count": 41,
      "outputs": [
        {
          "output_type": "display_data",
          "data": {
            "text/plain": [
              "<Figure size 1000x500 with 2 Axes>"
            ],
            "image/png": "[encoded data removed]"
          },
          "metadata": {}
        }
      ]
    },
    {
      "cell_type": "markdown",
      "source": [
        "comparing data\n"
      ],
      "metadata": {
        "id": "kAtcU4ZISYyT"
      }
    },
    {
      "cell_type": "code",
      "source": [
        "import matplotlib.pyplot as plt\n",
        "\n",
        "# Assuming you want to compare the first column\n",
        "\n",
        "plt.figure(figsize=(10, 5))\n",
        "\n",
        "# Line plot for synthetic_data\n",
        "plt.subplot(1, 2, 1)\n",
        "plt.plot(synthetic_data.iloc[:, 0], color='blue')\n",
        "plt.title('Synthetic Data (with Outliers)')\n",
        "plt.xlabel('Data Point Index')\n",
        "plt.ylabel('Value')\n",
        "\n",
        "# Line plot for synthetic_data_no_outliers\n",
        "plt.subplot(1, 2, 2)\n",
        "plt.plot(synthetic_data_no_outliers.iloc[:, 0], color='red')\n",
        "plt.title('Synthetic Data (No Outliers)')\n",
        "plt.xlabel('Data Point Index')\n",
        "plt.ylabel('Value')\n",
        "\n",
        "plt.tight_layout()\n",
        "plt.show()\n"
      ],
      "metadata": {
        "colab": {
          "base_uri": "https://localhost:8080/",
          "height": 507
        },
        "id": "S_W75PP_S8G7",
        "outputId": "b155c30a-853f-4087-dc5d-998b647a4d3b"
      },
      "execution_count": 42,
      "outputs": [
        {
          "output_type": "display_data",
          "data": {
            "text/plain": [
              "<Figure size 1000x500 with 2 Axes>"
            ],
            "image/png": "[encoded data removed]"
          },
          "metadata": {}
        }
      ]
    },
    {
      "cell_type": "code",
      "source": [
        "from sklearn.preprocessing import MinMaxScaler\n",
        "\n",
        "scaler = MinMaxScaler()\n",
        "scaled_data = scaler.fit_transform(synthetic_data_no_outliers)\n",
        "scaled_data\n"
      ],
      "metadata": {
        "id": "0c-O9G0pPYFr",
        "colab": {
          "base_uri": "https://localhost:8080/"
        },
        "outputId": "b839eb29-d9c0-4ef8-d8d5-89a5475b1fc8"
      },
      "execution_count": 47,
      "outputs": [
        {
          "output_type": "execute_result",
          "data": {
            "text/plain": [
              "array([[5.04184567e-01, 1.81341837e-01, 3.94336942e-01, 3.42940787e-01,\n",
              "        3.64084348e-01],\n",
              "       [5.97668643e-01, 4.92208698e-01, 9.98631049e-01, 5.02489907e-01,\n",
              "        3.78012147e-01],\n",
              "       [3.06969128e-01, 8.88232274e-01, 6.72292754e-01, 9.34739774e-01,\n",
              "        9.69872759e-01],\n",
              "       [8.05052740e-01, 5.85376892e-01, 8.64253101e-01, 1.70701984e-01,\n",
              "        5.86893741e-01],\n",
              "       [2.24777149e-01, 9.96801368e-01, 7.28191346e-01, 3.25344558e-01,\n",
              "        4.08203869e-01],\n",
              "       [2.77137152e-01, 8.86940016e-01, 6.98341385e-01, 5.20980330e-01,\n",
              "        9.11604259e-01],\n",
              "       [7.34624965e-01, 1.88302131e-02, 4.93318871e-01, 1.50592584e-01,\n",
              "        5.01129659e-01],\n",
              "       [9.16284320e-02, 6.28869184e-01, 2.66778433e-01, 8.48455727e-01,\n",
              "        2.84632967e-02],\n",
              "       [8.49875601e-01, 2.91537273e-01, 9.58463858e-01, 8.62148122e-01,\n",
              "        1.38745468e-03],\n",
              "       [4.86653724e-01, 3.54600265e-02, 8.51632904e-01, 6.54336847e-01,\n",
              "        2.33802678e-01],\n",
              "       [4.80209545e-01, 2.94914308e-01, 9.67416759e-01, 7.91715376e-02,\n",
              "        4.95760563e-01],\n",
              "       [8.96168275e-01, 6.33878473e-01, 8.02955037e-01, 1.01055741e-01,\n",
              "        1.12807428e-01],\n",
              "       [4.95496038e-01, 2.99865916e-02, 9.07379352e-01, 4.81754771e-01,\n",
              "        4.85250384e-01],\n",
              "       [2.18506800e-01, 2.99313039e-01, 0.00000000e+00, 9.96117804e-01,\n",
              "        9.53591758e-01],\n",
              "       [2.86949597e-01, 7.86594254e-01, 7.80909994e-01, 5.21798242e-01,\n",
              "        8.65673084e-01],\n",
              "       [7.74802024e-01, 6.92899412e-01, 5.81538881e-01, 9.66859648e-01,\n",
              "        4.62903350e-01],\n",
              "       [2.37679614e-01, 8.81253111e-01, 6.90474906e-01, 5.53801773e-01,\n",
              "        4.12656420e-02],\n",
              "       [3.70274248e-02, 3.97018953e-01, 1.41376785e-01, 9.46628018e-02,\n",
              "        7.30515133e-01],\n",
              "       [5.58294198e-03, 1.41754065e-01, 5.39632583e-01, 2.33582249e-02,\n",
              "        9.80349136e-01],\n",
              "       [7.47811319e-01, 5.57928307e-01, 8.23754623e-01, 6.15934474e-01,\n",
              "        1.14928673e-01],\n",
              "       [5.08210737e-01, 4.93874218e-01, 9.21079793e-01, 7.30884388e-01,\n",
              "        2.32962240e-01],\n",
              "       [9.39702471e-01, 7.80897586e-01, 5.25451817e-01, 9.41408822e-01,\n",
              "        7.69456959e-01],\n",
              "       [0.00000000e+00, 1.04606605e-01, 7.63335276e-01, 6.08820930e-01,\n",
              "        6.19240269e-01],\n",
              "       [8.35919514e-01, 9.27395412e-01, 9.27457326e-01, 1.21629338e-01,\n",
              "        2.44287664e-01],\n",
              "       [5.52550179e-01, 6.97187501e-02, 1.33413281e-01, 4.15627850e-01,\n",
              "        7.02260189e-01],\n",
              "       [5.48004008e-02, 7.26120090e-01, 8.92140719e-01, 9.40312199e-01,\n",
              "        9.57227117e-01],\n",
              "       [2.71516914e-01, 5.00153321e-01, 6.52040511e-02, 3.94161827e-01,\n",
              "        3.12628473e-01],\n",
              "       [3.17804818e-01, 1.13513198e-02, 3.00359822e-01, 3.11214210e-02,\n",
              "        8.58078439e-02],\n",
              "       [9.33252178e-01, 9.00685147e-01, 1.45601084e-02, 7.73609580e-01,\n",
              "        1.49763710e-01],\n",
              "       [3.31386936e-01, 2.54269994e-01, 5.04314431e-01, 3.57508517e-01,\n",
              "        4.67926745e-01],\n",
              "       [9.14275672e-01, 4.79630305e-01, 2.51569399e-01, 1.98379452e-01,\n",
              "        3.81716847e-01],\n",
              "       [5.41375723e-01, 3.72745799e-01, 4.91366764e-01, 8.18989716e-01,\n",
              "        4.71096034e-01],\n",
              "       [1.52488059e-01, 2.41556759e-01, 4.58052330e-02, 8.19021570e-01,\n",
              "        2.01607803e-02],\n",
              "       [6.75877525e-01, 1.04224555e-01, 2.39914243e-01, 5.73153672e-01,\n",
              "        0.00000000e+00],\n",
              "       [3.40344696e-01, 8.27056911e-01, 9.12375511e-02, 5.28581118e-01,\n",
              "        3.33842928e-01],\n",
              "       [2.70432506e-01, 1.00000000e+00, 6.45597665e-01, 1.26729324e-01,\n",
              "        6.64615922e-01],\n",
              "       [9.17507627e-01, 6.05289125e-01, 9.58547739e-01, 4.99881467e-01,\n",
              "        1.09832669e-01],\n",
              "       [5.42742086e-01, 7.98198565e-01, 7.40958795e-01, 5.61094905e-02,\n",
              "        4.48121460e-01],\n",
              "       [1.18142433e-01, 7.16101873e-01, 3.00021569e-01, 4.39119274e-01,\n",
              "        8.32004265e-01],\n",
              "       [9.49904162e-01, 8.29231406e-01, 5.00748799e-01, 2.23582163e-01,\n",
              "        6.60433608e-01],\n",
              "       [5.57109294e-01, 3.87183289e-01, 1.39171659e-01, 4.07787259e-01,\n",
              "        2.82412347e-01],\n",
              "       [2.21817639e-01, 9.74294727e-01, 8.27376813e-01, 5.79630265e-01,\n",
              "        7.92036406e-01],\n",
              "       [5.83357152e-01, 1.51170059e-01, 9.86234920e-01, 8.48613567e-02,\n",
              "        2.50242769e-01],\n",
              "       [8.34199826e-01, 5.25997668e-01, 1.92003849e-01, 6.25271652e-02,\n",
              "        1.00000000e+00],\n",
              "       [9.98708044e-01, 7.47133193e-01, 9.24995045e-01, 3.07105020e-01,\n",
              "        8.04959755e-01],\n",
              "       [4.59795865e-02, 4.08847968e-02, 2.88383071e-01, 1.62024263e-02,\n",
              "        2.94172351e-01],\n",
              "       [7.91856005e-03, 6.23728829e-01, 5.69433389e-02, 7.30607011e-01,\n",
              "        8.72283626e-01],\n",
              "       [2.32851063e-01, 7.01271208e-01, 1.92972169e-01, 6.55415394e-02,\n",
              "        6.96853903e-01],\n",
              "       [2.34820908e-01, 6.67253654e-01, 2.87411457e-01, 5.86406701e-01,\n",
              "        2.45809776e-01],\n",
              "       [3.38310230e-02, 1.44597747e-01, 2.67250386e-01, 5.56736078e-01,\n",
              "        5.92762345e-01],\n",
              "       [4.01114927e-01, 6.47043602e-01, 8.29964912e-01, 0.00000000e+00,\n",
              "        7.90198160e-01],\n",
              "       [4.62104860e-01, 4.93195931e-01, 3.99722215e-01, 6.81238566e-01,\n",
              "        6.13826881e-01],\n",
              "       [9.70896161e-01, 7.52441978e-01, 9.57715209e-01, 7.13498643e-01,\n",
              "        3.30818597e-02],\n",
              "       [2.65810135e-01, 4.94736943e-01, 9.74279159e-01, 9.33379507e-01,\n",
              "        3.35521243e-01],\n",
              "       [1.43167232e-01, 7.92280415e-01, 8.83088131e-01, 5.14771671e-01,\n",
              "        2.92351118e-01],\n",
              "       [1.74953815e-01, 3.72598211e-01, 6.90487433e-02, 1.48450287e-01,\n",
              "        9.61046382e-01],\n",
              "       [6.56318419e-01, 7.59754061e-01, 5.78445095e-01, 2.63854484e-01,\n",
              "        4.06028229e-01],\n",
              "       [2.06386600e-01, 4.64486038e-01, 4.23497854e-01, 1.20549014e-01,\n",
              "        5.74887831e-01],\n",
              "       [1.00000000e+00, 9.42470111e-01, 7.40959006e-01, 3.64459571e-01,\n",
              "        8.08196449e-01],\n",
              "       [4.03878107e-01, 0.00000000e+00, 4.00463976e-02, 4.88540375e-01,\n",
              "        2.15896379e-01],\n",
              "       [3.63047629e-01, 8.88982879e-01, 1.42602020e-01, 5.19324343e-01,\n",
              "        3.01486797e-01],\n",
              "       [9.94286170e-01, 5.04604936e-01, 3.05567256e-01, 6.87376335e-01,\n",
              "        5.83069268e-01],\n",
              "       [5.46546905e-01, 7.88748872e-01, 9.34551980e-02, 6.58048884e-01,\n",
              "        4.91460038e-01],\n",
              "       [1.08956547e-01, 2.62381048e-01, 1.66930695e-02, 9.76542050e-01,\n",
              "        4.05102851e-02],\n",
              "       [8.49333753e-02, 9.40924856e-01, 3.90555951e-01, 4.59101834e-01,\n",
              "        3.33841008e-01],\n",
              "       [7.11208056e-01, 6.62261274e-01, 9.79150715e-01, 8.90012800e-01,\n",
              "        7.02261962e-01],\n",
              "       [2.37838370e-02, 3.23596859e-01, 3.77987172e-01, 5.24744423e-01,\n",
              "        6.31093127e-01],\n",
              "       [5.77148310e-01, 2.59712677e-02, 4.42234907e-01, 9.12564019e-01,\n",
              "        9.33163910e-02],\n",
              "       [2.54312219e-01, 1.09192206e-01, 6.67370620e-01, 8.72650012e-01,\n",
              "        8.23376528e-01],\n",
              "       [7.38766529e-03, 7.21865038e-01, 3.78250736e-01, 7.41652210e-01,\n",
              "        2.47960370e-01],\n",
              "       [3.20706349e-01, 1.65457637e-01, 8.34873701e-01, 8.69040132e-01,\n",
              "        6.83044978e-02],\n",
              "       [9.62825993e-01, 8.12909482e-01, 1.33461716e-01, 5.13455443e-01,\n",
              "        6.04901812e-01],\n",
              "       [9.95557374e-02, 3.56605064e-01, 1.44509259e-01, 6.37104229e-01,\n",
              "        8.69282010e-01],\n",
              "       [9.35449784e-01, 1.52780465e-01, 3.74004277e-01, 7.45641984e-01,\n",
              "        3.18089028e-02],\n",
              "       [4.02820691e-01, 7.29487318e-01, 1.67194832e-01, 5.79654312e-01,\n",
              "        2.07292702e-01],\n",
              "       [6.06316790e-02, 3.02837008e-01, 9.86476791e-01, 5.31657318e-01,\n",
              "        7.70971367e-01],\n",
              "       [7.54593246e-01, 7.05250237e-01, 6.34665388e-01, 1.72930270e-01,\n",
              "        9.95651244e-01],\n",
              "       [6.57770964e-01, 6.60803388e-01, 3.83076043e-01, 9.67824906e-02,\n",
              "        7.54549747e-01],\n",
              "       [4.99024714e-01, 2.61532467e-01, 9.12133656e-01, 9.09702309e-01,\n",
              "        7.79851517e-01],\n",
              "       [6.89584919e-01, 7.50282761e-01, 9.13555450e-01, 2.26196768e-01,\n",
              "        7.46081464e-01],\n",
              "       [1.98261399e-01, 8.52291620e-01, 8.21232123e-01, 9.53949316e-01,\n",
              "        2.42874064e-01],\n",
              "       [9.34994928e-01, 9.22461274e-01, 1.88106714e-01, 4.26919665e-02,\n",
              "        5.24737046e-01],\n",
              "       [7.61459133e-01, 1.85012887e-01, 2.68022008e-01, 4.86746316e-02,\n",
              "        5.48845614e-01],\n",
              "       [9.94323187e-01, 9.21484536e-01, 8.97189841e-01, 6.99330655e-02,\n",
              "        3.54985391e-01],\n",
              "       [1.28353728e-01, 5.26980872e-01, 6.42607582e-02, 5.91361858e-01,\n",
              "        2.45002791e-01],\n",
              "       [5.21116453e-01, 5.35080495e-01, 1.00000000e+00, 9.08965833e-01,\n",
              "        1.64774750e-01],\n",
              "       [4.42274675e-01, 3.85769887e-01, 1.18092103e-01, 5.15898499e-02,\n",
              "        6.66711507e-02],\n",
              "       [6.36762147e-01, 5.15743106e-01, 8.89114433e-01, 2.14295349e-01,\n",
              "        3.18629759e-01],\n",
              "       [4.89512215e-01, 8.50264736e-01, 3.62775089e-01, 4.57718936e-01,\n",
              "        4.25193547e-01],\n",
              "       [5.71657264e-01, 7.26380981e-01, 3.16148515e-01, 6.18236666e-01,\n",
              "        1.57649001e-01],\n",
              "       [3.64959265e-01, 8.23964364e-02, 7.15342433e-01, 1.00000000e+00,\n",
              "        2.56611914e-01],\n",
              "       [3.33404977e-01, 7.96684820e-01, 7.56163990e-01, 9.82908744e-01,\n",
              "        8.77564316e-01],\n",
              "       [4.74249675e-01, 7.56953276e-01, 2.97267245e-01, 7.10777326e-01,\n",
              "        5.00149720e-01],\n",
              "       [5.25263937e-01, 3.64089361e-02, 4.52139914e-03, 6.75941162e-01,\n",
              "        8.18664430e-02],\n",
              "       [2.29034625e-02, 6.66598212e-01, 4.94080955e-01, 6.78266767e-02,\n",
              "        2.46212659e-01],\n",
              "       [5.32470700e-01, 7.11713025e-02, 9.10875008e-01, 2.40046882e-01,\n",
              "        6.51946521e-01],\n",
              "       [3.89557342e-01, 1.56695643e-01, 3.32519988e-02, 7.06228014e-02,\n",
              "        9.59919142e-01],\n",
              "       [6.24349565e-01, 4.28132442e-01, 3.51429915e-01, 7.80761633e-01,\n",
              "        4.12125008e-01],\n",
              "       [1.40738581e-01, 4.20205081e-01, 6.25374484e-02, 7.14693383e-01,\n",
              "        1.52050047e-01],\n",
              "       [9.35820997e-01, 7.97217099e-01, 5.80763750e-01, 6.13143773e-01,\n",
              "        6.32704294e-04]])"
            ]
          },
          "metadata": {},
          "execution_count": 47
        }
      ]
    },
    {
      "cell_type": "markdown",
      "source": [
        "To apply Root **Mean Square Error (RMSE)**, **Mean Absolute Error (MAE)**, and **Mean Squared Error (MSE)**, you would typically need to have both the actual target values and the predicted values. Since you've generated synthetic data and don't have actual targets, we'll calculate these metrics relative to the original data.\n",
        "\n",
        "We'll consider the **original data** as our **\"actual\"** values and the **scaled data** as our **\"predicted\"** values for demonstration purposes"
      ],
      "metadata": {
        "id": "Uu__-HlFQFN7"
      }
    },
    {
      "cell_type": "code",
      "source": [
        "import numpy as np\n",
        "from sklearn.metrics import mean_squared_error, mean_absolute_error\n",
        "\n",
        "\n",
        "# Calculate Mean Absolute Error (MAE)\n",
        "mae = mean_absolute_error(synthetic_data_no_outliers, scaled_data)\n",
        "\n",
        "# Calculate Mean Squared Error (MSE)\n",
        "mse = mean_squared_error(synthetic_data_no_outliers, scaled_data)\n",
        "\n",
        "# Calculate Root Mean Squared Error (RMSE)\n",
        "rmse = np.sqrt(mse)\n",
        "\n",
        "print(f'Mean Absolute Error (MAE): {mae}')\n",
        "print(f'Mean Squared Error (MSE): {mse}')\n",
        "print(f'Root Mean Squared Error (RMSE): {rmse}')\n"
      ],
      "metadata": {
        "colab": {
          "base_uri": "https://localhost:8080/"
        },
        "id": "8YfzWtw6QQJc",
        "outputId": "e1c90254-96a8-4656-fd15-8385163a8e2c"
      },
      "execution_count": 55,
      "outputs": [
        {
          "output_type": "stream",
          "name": "stdout",
          "text": [
            "Mean Absolute Error (MAE): 53.749248506022596\n",
            "Mean Squared Error (MSE): 3592.0740146918106\n",
            "Root Mean Squared Error (RMSE): 59.93391372746995\n"
          ]
        }
      ]
    },
    {
      "cell_type": "code",
      "source": [
        "import matplotlib.pyplot as plt\n",
        "\n",
        "# Define the metrics and their values\n",
        "metrics = ['MAE', 'MSE', 'RMSE']\n",
        "values = [mae, mse, rmse]\n",
        "\n",
        "# Create a bar chart\n",
        "plt.bar(metrics, values, color=['blue', 'green', 'red'])\n",
        "\n",
        "# Add titles and labels\n",
        "plt.title('Regression Metrics')\n",
        "plt.xlabel('Metrics')\n",
        "plt.ylabel('Value')\n",
        "\n",
        "# Display the chart\n",
        "plt.show()\n"
      ],
      "metadata": {
        "colab": {
          "base_uri": "https://localhost:8080/",
          "height": 472
        },
        "id": "muS6znXAQitr",
        "outputId": "c83f8d37-0238-4102-8974-f0c1dd51bad4"
      },
      "execution_count": 56,
      "outputs": [
        {
          "output_type": "display_data",
          "data": {
            "text/plain": [
              "<Figure size 640x480 with 1 Axes>"
            ],
            "image/png": "[encoded data removed]"
          },
          "metadata": {}
        }
      ]
    },
    {
      "cell_type": "code",
      "source": [
        "synthetic_data.columns\n"
      ],
      "metadata": {
        "colab": {
          "base_uri": "https://localhost:8080/"
        },
        "id": "9OLTiEHcVkIr",
        "outputId": "2274377a-222a-47c9-bf43-b722eb1db1ef"
      },
      "execution_count": 52,
      "outputs": [
        {
          "output_type": "execute_result",
          "data": {
            "text/plain": [
              "Index(['0', '1', '2', '3', '4'], dtype='object')"
            ]
          },
          "metadata": {},
          "execution_count": 52
        }
      ]
    },
    {
      "cell_type": "code",
      "source": [
        "features=['0', '1', '2', '3', '4']\n"
      ],
      "metadata": {
        "id": "8a1ZFe_QVkFj"
      },
      "execution_count": 53,
      "outputs": []
    },
    {
      "cell_type": "markdown",
      "source": [
        "Model\n"
      ],
      "metadata": {
        "id": "qUd3DaTyV0zi"
      }
    },
    {
      "cell_type": "code",
      "source": [
        "from ctgan import CTGAN"
      ],
      "metadata": {
        "id": "TXNCvR6OV26r"
      },
      "execution_count": 54,
      "outputs": []
    },
    {
      "cell_type": "code",
      "source": [
        "ctgan=CTGAN(verbose=True)\n",
        "ctgan.fit(synthetic_data_no_outliers,features,epochs=50)"
      ],
      "metadata": {
        "colab": {
          "base_uri": "https://localhost:8080/"
        },
        "id": "YeUI3j-LV6xH",
        "outputId": "c504e6cc-c389-4f06-b67f-31e1ccb84e8c"
      },
      "execution_count": 57,
      "outputs": [
        {
          "output_type": "stream",
          "name": "stderr",
          "text": [
            "Gen. (4.58) | Discrim. (-0.02): 100%|██████████| 50/50 [00:29<00:00,  1.69it/s]\n"
          ]
        }
      ]
    },
    {
      "cell_type": "markdown",
      "source": [
        "Synthetic data generation"
      ],
      "metadata": {
        "id": "BrYdpSrWWRey"
      }
    },
    {
      "cell_type": "code",
      "source": [
        "samples=ctgan.sample(200)"
      ],
      "metadata": {
        "id": "6AWpDtZuWOoV"
      },
      "execution_count": 58,
      "outputs": []
    },
    {
      "cell_type": "code",
      "source": [
        "samples\n"
      ],
      "metadata": {
        "colab": {
          "base_uri": "https://localhost:8080/",
          "height": 424
        },
        "id": "v7dhy5PPWgmr",
        "outputId": "fef7f5b9-5bf3-4b5b-b12b-11579bd06aaa"
      },
      "execution_count": 60,
      "outputs": [
        {
          "output_type": "execute_result",
          "data": {
            "text/plain": [
              "             0          1          2          3          4\n",
              "0    98.156905  75.465470  43.779313  93.789485  53.904603\n",
              "1    52.772021  12.899368  98.338363  33.593419  25.126769\n",
              "2    89.593911  56.649639  28.499989  72.815288  95.601431\n",
              "3    91.174189  75.465470  91.725007  16.494171  44.484362\n",
              "4    35.079027  45.165665  83.883388  59.141095  54.827860\n",
              "..         ...        ...        ...        ...        ...\n",
              "195  57.224163  13.831743  72.445245  55.480595  32.871169\n",
              "196  30.452702  93.421659  24.412232  27.882118  99.122296\n",
              "197  20.891978  66.295773  98.338363  91.995207  32.737461\n",
              "198  91.174189  69.737794  91.959481  93.789485  14.903183\n",
              "199  35.079027  97.611075  13.505376  64.304894  62.497410\n",
              "\n",
              "[200 rows x 5 columns]"
            ],
            "text/html": [
              "\n",
              "  <div id=\"df-50400077-4e0a-44db-9443-2422569ec5f0\" class=\"colab-df-container\">\n",
              "    <div>\n",
              "<style scoped>\n",
              "    .dataframe tbody tr th:only-of-type {\n",
              "        vertical-align: middle;\n",
              "    }\n",
              "\n",
              "    .dataframe tbody tr th {\n",
              "        vertical-align: top;\n",
              "    }\n",
              "\n",
              "    .dataframe thead th {\n",
              "        text-align: right;\n",
              "    }\n",
              "</style>\n",
              "<table border=\"1\" class=\"dataframe\">\n",
              "  <thead>\n",
              "    <tr style=\"text-align: right;\">\n",
              "      <th></th>\n",
              "      <th>0</th>\n",
              "      <th>1</th>\n",
              "      <th>2</th>\n",
              "      <th>3</th>\n",
              "      <th>4</th>\n",
              "    </tr>\n",
              "  </thead>\n",
              "  <tbody>\n",
              "    <tr>\n",
              "      <th>0</th>\n",
              "      <td>98.156905</td>\n",
              "      <td>75.465470</td>\n",
              "      <td>43.779313</td>\n",
              "      <td>93.789485</td>\n",
              "      <td>53.904603</td>\n",
              "    </tr>\n",
              "    <tr>\n",
              "      <th>1</th>\n",
              "      <td>52.772021</td>\n",
              "      <td>12.899368</td>\n",
              "      <td>98.338363</td>\n",
              "      <td>33.593419</td>\n",
              "      <td>25.126769</td>\n",
              "    </tr>\n",
              "    <tr>\n",
              "      <th>2</th>\n",
              "      <td>89.593911</td>\n",
              "      <td>56.649639</td>\n",
              "      <td>28.499989</td>\n",
              "      <td>72.815288</td>\n",
              "      <td>95.601431</td>\n",
              "    </tr>\n",
              "    <tr>\n",
              "      <th>3</th>\n",
              "      <td>91.174189</td>\n",
              "      <td>75.465470</td>\n",
              "      <td>91.725007</td>\n",
              "      <td>16.494171</td>\n",
              "      <td>44.484362</td>\n",
              "    </tr>\n",
              "    <tr>\n",
              "      <th>4</th>\n",
              "      <td>35.079027</td>\n",
              "      <td>45.165665</td>\n",
              "      <td>83.883388</td>\n",
              "      <td>59.141095</td>\n",
              "      <td>54.827860</td>\n",
              "    </tr>\n",
              "    <tr>\n",
              "      <th>...</th>\n",
              "      <td>...</td>\n",
              "      <td>...</td>\n",
              "      <td>...</td>\n",
              "      <td>...</td>\n",
              "      <td>...</td>\n",
              "    </tr>\n",
              "    <tr>\n",
              "      <th>195</th>\n",
              "      <td>57.224163</td>\n",
              "      <td>13.831743</td>\n",
              "      <td>72.445245</td>\n",
              "      <td>55.480595</td>\n",
              "      <td>32.871169</td>\n",
              "    </tr>\n",
              "    <tr>\n",
              "      <th>196</th>\n",
              "      <td>30.452702</td>\n",
              "      <td>93.421659</td>\n",
              "      <td>24.412232</td>\n",
              "      <td>27.882118</td>\n",
              "      <td>99.122296</td>\n",
              "    </tr>\n",
              "    <tr>\n",
              "      <th>197</th>\n",
              "      <td>20.891978</td>\n",
              "      <td>66.295773</td>\n",
              "      <td>98.338363</td>\n",
              "      <td>91.995207</td>\n",
              "      <td>32.737461</td>\n",
              "    </tr>\n",
              "    <tr>\n",
              "      <th>198</th>\n",
              "      <td>91.174189</td>\n",
              "      <td>69.737794</td>\n",
              "      <td>91.959481</td>\n",
              "      <td>93.789485</td>\n",
              "      <td>14.903183</td>\n",
              "    </tr>\n",
              "    <tr>\n",
              "      <th>199</th>\n",
              "      <td>35.079027</td>\n",
              "      <td>97.611075</td>\n",
              "      <td>13.505376</td>\n",
              "      <td>64.304894</td>\n",
              "      <td>62.497410</td>\n",
              "    </tr>\n",
              "  </tbody>\n",
              "</table>\n",
              "<p>200 rows × 5 columns</p>\n",
              "</div>\n",
              "    <div class=\"colab-df-buttons\">\n",
              "\n",
              "  <div class=\"colab-df-container\">\n",
              "    <button class=\"colab-df-convert\" onclick=\"convertToInteractive('df-50400077-4e0a-44db-9443-2422569ec5f0')\"\n",
              "            title=\"Convert this dataframe to an interactive table.\"\n",
              "            style=\"display:none;\">\n",
              "\n",
              "  <svg xmlns=\"http://www.w3.org/2000/svg\" height=\"24px\" viewBox=\"0 -960 960 960\">\n",
              "    <path d=\"M120-120v-720h720v720H120Zm60-500h600v-160H180v160Zm220 220h160v-160H400v160Zm0 220h160v-160H400v160ZM180-400h160v-160H180v160Zm440 0h160v-160H620v160ZM180-180h160v-160H180v160Zm440 0h160v-160H620v160Z\"/>\n",
              "  </svg>\n",
              "    </button>\n",
              "\n",
              "  <style>\n",
              "    .colab-df-container {\n",
              "      display:flex;\n",
              "      gap: 12px;\n",
              "    }\n",
              "\n",
              "    .colab-df-convert {\n",
              "      background-color: #E8F0FE;\n",
              "      border: none;\n",
              "      border-radius: 50%;\n",
              "      cursor: pointer;\n",
              "      display: none;\n",
              "      fill: #1967D2;\n",
              "      height: 32px;\n",
              "      padding: 0 0 0 0;\n",
              "      width: 32px;\n",
              "    }\n",
              "\n",
              "    .colab-df-convert:hover {\n",
              "      background-color: #E2EBFA;\n",
              "      box-shadow: 0px 1px 2px rgba(60, 64, 67, 0.3), 0px 1px 3px 1px rgba(60, 64, 67, 0.15);\n",
              "      fill: #174EA6;\n",
              "    }\n",
              "\n",
              "    .colab-df-buttons div {\n",
              "      margin-bottom: 4px;\n",
              "    }\n",
              "\n",
              "    [theme=dark] .colab-df-convert {\n",
              "      background-color: #3B4455;\n",
              "      fill: #D2E3FC;\n",
              "    }\n",
              "\n",
              "    [theme=dark] .colab-df-convert:hover {\n",
              "      background-color: #434B5C;\n",
              "      box-shadow: 0px 1px 3px 1px rgba(0, 0, 0, 0.15);\n",
              "      filter: drop-shadow(0px 1px 2px rgba(0, 0, 0, 0.3));\n",
              "      fill: #FFFFFF;\n",
              "    }\n",
              "  </style>\n",
              "\n",
              "    <script>\n",
              "      const buttonEl =\n",
              "        document.querySelector('#df-50400077-4e0a-44db-9443-2422569ec5f0 button.colab-df-convert');\n",
              "      buttonEl.style.display =\n",
              "        google.colab.kernel.accessAllowed ? 'block' : 'none';\n",
              "\n",
              "      async function convertToInteractive(key) {\n",
              "        const element = document.querySelector('#df-50400077-4e0a-44db-9443-2422569ec5f0');\n",
              "        const dataTable =\n",
              "          await google.colab.kernel.invokeFunction('convertToInteractive',\n",
              "                                                    [key], {});\n",
              "        if (!dataTable) return;\n",
              "\n",
              "        const docLinkHtml = 'Like what you see? Visit the ' +\n",
              "          '<a target=\"_blank\" href=https://colab.research.google.com/notebooks/data_table.ipynb>data table notebook</a>'\n",
              "          + ' to learn more about interactive tables.';\n",
              "        element.innerHTML = '';\n",
              "        dataTable['output_type'] = 'display_data';\n",
              "        await google.colab.output.renderOutput(dataTable, element);\n",
              "        const docLink = document.createElement('div');\n",
              "        docLink.innerHTML = docLinkHtml;\n",
              "        element.appendChild(docLink);\n",
              "      }\n",
              "    </script>\n",
              "  </div>\n",
              "\n",
              "\n",
              "<div id=\"df-dd7b501e-30eb-487e-afcd-c8f3998a938b\">\n",
              "  <button class=\"colab-df-quickchart\" onclick=\"quickchart('df-dd7b501e-30eb-487e-afcd-c8f3998a938b')\"\n",
              "            title=\"Suggest charts.\"\n",
              "            style=\"display:none;\">\n",
              "\n",
              "<svg xmlns=\"http://www.w3.org/2000/svg\" height=\"24px\"viewBox=\"0 0 24 24\"\n",
              "     width=\"24px\">\n",
              "    <g>\n",
              "        <path d=\"M19 3H5c-1.1 0-2 .9-2 2v14c0 1.1.9 2 2 2h14c1.1 0 2-.9 2-2V5c0-1.1-.9-2-2-2zM9 17H7v-7h2v7zm4 0h-2V7h2v10zm4 0h-2v-4h2v4z\"/>\n",
              "    </g>\n",
              "</svg>\n",
              "  </button>\n",
              "\n",
              "<style>\n",
              "  .colab-df-quickchart {\n",
              "      --bg-color: #E8F0FE;\n",
              "      --fill-color: #1967D2;\n",
              "      --hover-bg-color: #E2EBFA;\n",
              "      --hover-fill-color: #174EA6;\n",
              "      --disabled-fill-color: #AAA;\n",
              "      --disabled-bg-color: #DDD;\n",
              "  }\n",
              "\n",
              "  [theme=dark] .colab-df-quickchart {\n",
              "      --bg-color: #3B4455;\n",
              "      --fill-color: #D2E3FC;\n",
              "      --hover-bg-color: #434B5C;\n",
              "      --hover-fill-color: #FFFFFF;\n",
              "      --disabled-bg-color: #3B4455;\n",
              "      --disabled-fill-color: #666;\n",
              "  }\n",
              "\n",
              "  .colab-df-quickchart {\n",
              "    background-color: var(--bg-color);\n",
              "    border: none;\n",
              "    border-radius: 50%;\n",
              "    cursor: pointer;\n",
              "    display: none;\n",
              "    fill: var(--fill-color);\n",
              "    height: 32px;\n",
              "    padding: 0;\n",
              "    width: 32px;\n",
              "  }\n",
              "\n",
              "  .colab-df-quickchart:hover {\n",
              "    background-color: var(--hover-bg-color);\n",
              "    box-shadow: 0 1px 2px rgba(60, 64, 67, 0.3), 0 1px 3px 1px rgba(60, 64, 67, 0.15);\n",
              "    fill: var(--button-hover-fill-color);\n",
              "  }\n",
              "\n",
              "  .colab-df-quickchart-complete:disabled,\n",
              "  .colab-df-quickchart-complete:disabled:hover {\n",
              "    background-color: var(--disabled-bg-color);\n",
              "    fill: var(--disabled-fill-color);\n",
              "    box-shadow: none;\n",
              "  }\n",
              "\n",
              "  .colab-df-spinner {\n",
              "    border: 2px solid var(--fill-color);\n",
              "    border-color: transparent;\n",
              "    border-bottom-color: var(--fill-color);\n",
              "    animation:\n",
              "      spin 1s steps(1) infinite;\n",
              "  }\n",
              "\n",
              "  @keyframes spin {\n",
              "    0% {\n",
              "      border-color: transparent;\n",
              "      border-bottom-color: var(--fill-color);\n",
              "      border-left-color: var(--fill-color);\n",
              "    }\n",
              "    20% {\n",
              "      border-color: transparent;\n",
              "      border-left-color: var(--fill-color);\n",
              "      border-top-color: var(--fill-color);\n",
              "    }\n",
              "    30% {\n",
              "      border-color: transparent;\n",
              "      border-left-color: var(--fill-color);\n",
              "      border-top-color: var(--fill-color);\n",
              "      border-right-color: var(--fill-color);\n",
              "    }\n",
              "    40% {\n",
              "      border-color: transparent;\n",
              "      border-right-color: var(--fill-color);\n",
              "      border-top-color: var(--fill-color);\n",
              "    }\n",
              "    60% {\n",
              "      border-color: transparent;\n",
              "      border-right-color: var(--fill-color);\n",
              "    }\n",
              "    80% {\n",
              "      border-color: transparent;\n",
              "      border-right-color: var(--fill-color);\n",
              "      border-bottom-color: var(--fill-color);\n",
              "    }\n",
              "    90% {\n",
              "      border-color: transparent;\n",
              "      border-bottom-color: var(--fill-color);\n",
              "    }\n",
              "  }\n",
              "</style>\n",
              "\n",
              "  <script>\n",
              "    async function quickchart(key) {\n",
              "      const quickchartButtonEl =\n",
              "        document.querySelector('#' + key + ' button');\n",
              "      quickchartButtonEl.disabled = true;  // To prevent multiple clicks.\n",
              "      quickchartButtonEl.classList.add('colab-df-spinner');\n",
              "      try {\n",
              "        const charts = await google.colab.kernel.invokeFunction(\n",
              "            'suggestCharts', [key], {});\n",
              "      } catch (error) {\n",
              "        console.error('Error during call to suggestCharts:', error);\n",
              "      }\n",
              "      quickchartButtonEl.classList.remove('colab-df-spinner');\n",
              "      quickchartButtonEl.classList.add('colab-df-quickchart-complete');\n",
              "    }\n",
              "    (() => {\n",
              "      let quickchartButtonEl =\n",
              "        document.querySelector('#df-dd7b501e-30eb-487e-afcd-c8f3998a938b button');\n",
              "      quickchartButtonEl.style.display =\n",
              "        google.colab.kernel.accessAllowed ? 'block' : 'none';\n",
              "    })();\n",
              "  </script>\n",
              "</div>\n",
              "    </div>\n",
              "  </div>\n"
            ]
          },
          "metadata": {},
          "execution_count": 60
        }
      ]
    },
    {
      "cell_type": "code",
      "source": [],
      "metadata": {
        "id": "CeIgNqp0Wij2"
      },
      "execution_count": null,
      "outputs": []
    }
  ]
}